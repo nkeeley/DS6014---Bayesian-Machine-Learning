{
 "cells": [
  {
   "cell_type": "markdown",
   "metadata": {},
   "source": [
    "## Problem 4 ##"
   ]
  },
  {
   "cell_type": "markdown",
   "metadata": {},
   "source": [
    "NOTE TO GRADER: I referenced the starter code as instructed to do this problem. I also used our lecture notes for HMM."
   ]
  },
  {
   "cell_type": "markdown",
   "metadata": {},
   "source": [
    "## Hidden Markov Models (HMM)\n",
    "\n",
    "HMM are popular approaches to working with time series problems where there are latent or hidden states\n",
    "\n",
    "There are 4 common inference problems in HMM:\n",
    "\n",
    "- __Filtering__  Inferring the present - carried out by passing messages up and to the right, so infer $h_t$ from $p(h_t|v_{1:t})$  where  $t = T$\n",
    "\n",
    "- __Prediction__ Inferring the future - similar to filtering but with a new future state, so infer $h_t$ from $p(h_t|v_{1:T})$ where $t>T$\n",
    "\n",
    "- __Smoothing__  Inferring the past - combine filtering messages with messages up and to the left, so infer $h_t$ from $p(h_t|v_{1:T})$ where $t <T$\n",
    "\n",
    "- __Decoding__ Find the most likely hidden path - computed similarly to smoothing, so infer the most likely hidden sequence $h_{1:T}$ from $p(h_{1:T}|v_{1:T})$"
   ]
  },
  {
   "cell_type": "code",
   "execution_count": 29,
   "metadata": {},
   "outputs": [],
   "source": [
    "#!/usr/bin/env python3\n",
    "# -*- coding: utf-8 -*-\n",
    "\"\"\"\n",
    "Created on Thu Nov 12 20:35:27 2020\n",
    "\n",
    "@author: donaldbrown\n",
    "\"\"\"\n",
    "\n",
    "import numpy as np\n",
    "import pandas as pd\n",
    "\n",
    "class HMM:\n",
    "    \"\"\"Creates a class for Hidden Markov Models\n",
    "    Input:\n",
    "        Viz:      List of observed or visible states over time\n",
    "        Trans_M:  Numpy array of the Transition matrix for hidden states, \n",
    "                  H X H, H=len(Trans_M), no. of hidden variables\n",
    "        Obs_M:    Numpy array of the Observation matrix, \n",
    "                  H X V, V = no. of visible variables\n",
    "        Pi:       List of initial state probabilities\n",
    "    Methods:\n",
    "        filter = The posterior probabilities for hidden states for each time period, T X H array\n",
    "        smoother = The probabiliteis for the hidden states at each prevoius time period, T X H array\n",
    "        viturbi = The most likely path of hidden states given the observed state, data frame, 1 X T\n",
    "        predictor = The probabilities for next hidden state and the next observed state, 1 X H array \"\"\"\n",
    "    \n",
    "    def __init__(self,Viz, Trans_M, Obs_M, Pi):\n",
    "        # initialize variables\n",
    "        # Hidden state transition matrix\n",
    "        self.Trans_M = Trans_M\n",
    "        # Visible or observates state probabilities given the hidden states\n",
    "        self.Obs_M = Obs_M\n",
    "        # No. of hidden states\n",
    "        self.H = Trans_M.shape[0]\n",
    "        # No. of observed states\n",
    "        self.V = Obs_M.shape[0]\n",
    "        # prior probabaiities for the hidden states\n",
    "        self.Pi = Pi\n",
    "        # List of observed states over time\n",
    "        self.Viz = Viz\n",
    "\n",
    "        \n",
    "    def filter(self):\n",
    "        \n",
    "        T = len(self.Viz)\n",
    "        \n",
    "        # Obtain the joint probabilities of the hidden and observed states at time t\n",
    "        self.alpha = np.zeros((T, self.H))\n",
    "        self.alpha[0, :] = self.Pi * self.Obs_M[:,self.Viz[0]]\n",
    " \n",
    "        for t in range(1, T):\n",
    "            for j in range(self.H):\n",
    "                self.alpha[t, j] = self.alpha[t - 1].dot(self.Trans_M[:, j]) * self.Obs_M[j, self.Viz[t]]\n",
    "        \n",
    "        ### Insert your code here to compute the posterior probabilities ###\n",
    "        self.Post=np.zeros((T,self.H))\n",
    "        for t in range(0,T):\n",
    "            self.Post[t]=self.alpha[t]/np.sum(self.alpha[t])\n",
    "        #self.Post[0]=self.alpha[0]/np.sum(self.alpha[0])\n",
    "        #self.Post = self.alpha / (np.sum(self.alpha))\n",
    "        \n",
    "        print(\"Posterior\")\n",
    "        print(self.Post)  \n",
    "        return self.Post\n",
    "      \n",
    "    def smoother(self):\n",
    "\n",
    "        T = len(self.Viz)\n",
    "        beta = np.zeros((T, self.H))\n",
    " \n",
    "        # setting beta(T) = 1\n",
    "        beta[T - 1] = np.ones((self.H))\n",
    " \n",
    "        # Loop backwards way from T-1 to 1\n",
    "        # Due to python indexing the actual loop will be T-2 to 0\n",
    "        for t in range(T- 2, -1, -1):\n",
    "            for j in range(self.H):\n",
    "                beta[t, j] = (beta[t + 1] * self.Obs_M[:, self.Viz[t + 1]]).dot(self.Trans_M[j, :])\n",
    "                \n",
    "        # Obtain the posterior probabilities of the hidden states given the observed states       \n",
    "        \n",
    "        ### Insert your code here to compute the posterior probabilities ###\n",
    "        \n",
    "        ## Get the alpha\n",
    "        alpha = np.zeros((T, self.H))\n",
    "        alpha[0, :] = self.Pi * self.Obs_M[:,self.Viz[0]]\n",
    " \n",
    "        for t in range(1, T):\n",
    "            for j in range(self.H):\n",
    "                alpha[t, j] = alpha[t - 1].dot(self.Trans_M[:, j]) * self.Obs_M[j, self.Viz[t]]\n",
    "        \n",
    "        ## Get the posterior\n",
    "        Post=np.zeros((T,self.H))\n",
    "        for t in range(0,T):\n",
    "            Post[t]=(alpha[t]*beta[t])/np.sum(alpha[t]*beta[t])\n",
    "        \n",
    "        print(\"beta\")\n",
    "        print(beta)\n",
    "        print(\"Posterior\")\n",
    "        print(Post)\n",
    "        print(\"alpha\")\n",
    "        print(alpha)\n",
    " \n",
    "        return Post\n",
    "    \n",
    "    \n",
    "    def viturbi(self):\n",
    "        T = len(self.Viz)\n",
    "        \n",
    "        # Obtain the joint probabity of the most likely path that ends in state j at time t\n",
    "        delta = np.zeros((T, self.H))\n",
    "        delta[0, :] = (self.Pi * self.Obs_M[:, Viz[0]])\n",
    " \n",
    "\n",
    "        prev = np.zeros((T, self.H))\n",
    "        prev[0,:] = np.repeat(None, 3)\n",
    " \n",
    "        for t in range(1, T):\n",
    "            for j in range(self.H):\n",
    "                # The most likely state given our previoius state at t-1\n",
    "                \n",
    "                prob = delta[t - 1]* (self.Trans_M[:, j])\n",
    " \n",
    "                #  The probability of the most probable state given the previous state and the observation at time t\n",
    "                \n",
    "                delta[t, j] = np.max(prob) * (self.Obs_M[j, Viz[t]])                \n",
    "                \n",
    "                # The most probable state given previous state \n",
    "\n",
    "                prev[t, j] = np.argmax(prob)\n",
    " \n",
    "                \n",
    "        # Path Array\n",
    "        S = np.zeros(T)\n",
    " \n",
    "        # Find the most probable last hidden state\n",
    "        last_state = np.argmax(delta[T-1, :])\n",
    " \n",
    "        S[T-1] = last_state\n",
    "        \n",
    "        # Find the most probable hidden states at the previous times\n",
    "        ### Insert your code here ###\n",
    "            \n",
    "        # Change to states numbers in problem (i.e., +1)\n",
    "        S = S+1\n",
    "            \n",
    "        S = S.reshape([1,3])\n",
    " \n",
    "        # Path, S, as a dataframe \n",
    "        # Create a list of column names, Time  \n",
    "        cols = list()\n",
    "        for i in range(1,T+1):\n",
    "            cols.append(\"Time \"+(str(i)))\n",
    "        Path = pd.DataFrame(S, columns = cols)\n",
    "        print('delta')\n",
    "        print(delta)\n",
    "        print('Previous')\n",
    "        print(prev)        \n",
    "        print(\"Path\")\n",
    "        print(Path)\n",
    "        return Path\n",
    " \n",
    "\n",
    "    def predictor(self, steps = 1):\n",
    "        T = len(self.Viz)\n",
    "        # Hidden state prediction probabilities using filtering results (Post)\n",
    "        \n",
    "        ### Insert your code here ###\n",
    "        \n",
    "        temp=self.filter()\n",
    "        \n",
    "        for step in range(steps):\n",
    "            for room in T:\n",
    "                new_hmm=HMM(self.Viz, self.Trans_M, self.Obs_M, temp[step])\n",
    "                temp=new_hmm.filter()\n",
    "                temp=temp[step]\n",
    "        \n",
    "        Pred_Hidden = temp\n",
    "        \n",
    "        print(\"Predicted Hidden State\")\n",
    "        print(Pred_Hidden)\n",
    "        # Visible state prediction using the predicted hidden state probabilities\n",
    "        ### Insert your code here ###\n",
    "        \n",
    "        p=Pred_Hidden\n",
    "        \n",
    "\n",
    "\n",
    "        Pred_Visible = p\n",
    "        print(\"Predicted Visible State\")\n",
    "        print(Pred_Visible)"
   ]
  },
  {
   "cell_type": "code",
   "execution_count": 30,
   "metadata": {},
   "outputs": [
    {
     "data": {
      "text/plain": [
       "array([1., 0., 0.])"
      ]
     },
     "execution_count": 30,
     "metadata": {},
     "output_type": "execute_result"
    }
   ],
   "source": [
    "## Play cell\n",
    "\n",
    "test_alpha=np.array([.6,0,0])\n",
    "np.sum(test_alpha)\n",
    "test_alpha/np.sum(test_alpha)"
   ]
  },
  {
   "cell_type": "code",
   "execution_count": 31,
   "metadata": {},
   "outputs": [],
   "source": [
    "# Example lecture problem: Burglar in an apartment\n",
    "# Data \n",
    "# Transition matrix\n",
    "TM = np.array([[.1,.4,.5],[.4,.0,.6],[0,.6,.4]])  \n",
    "# Observation matrix\n",
    "OM = np.array([[.6,.2,.2],[.2,.6,.2],[.2,.2,.6]])\n",
    "OM = OM.T\n",
    "# Prior probabilities of hidden states\n",
    "p = [1,0,0]\n",
    "# Observed visible states\n",
    "Viz = [0,2,2]\n"
   ]
  },
  {
   "cell_type": "code",
   "execution_count": 23,
   "metadata": {},
   "outputs": [
    {
     "name": "stdout",
     "output_type": "stream",
     "text": [
      "delta\n",
      "[[0.6     0.      0.     ]\n",
      " [0.012   0.048   0.18   ]\n",
      " [0.00384 0.0216  0.0432 ]]\n",
      "Previous\n",
      "[[nan nan nan]\n",
      " [ 0.  0.  0.]\n",
      " [ 1.  2.  2.]]\n",
      "Path\n",
      "   Time 1  Time 2  Time 3\n",
      "0     1.0     1.0     3.0\n"
     ]
    },
    {
     "data": {
      "text/html": [
       "<div>\n",
       "<style scoped>\n",
       "    .dataframe tbody tr th:only-of-type {\n",
       "        vertical-align: middle;\n",
       "    }\n",
       "\n",
       "    .dataframe tbody tr th {\n",
       "        vertical-align: top;\n",
       "    }\n",
       "\n",
       "    .dataframe thead th {\n",
       "        text-align: right;\n",
       "    }\n",
       "</style>\n",
       "<table border=\"1\" class=\"dataframe\">\n",
       "  <thead>\n",
       "    <tr style=\"text-align: right;\">\n",
       "      <th></th>\n",
       "      <th>Time 1</th>\n",
       "      <th>Time 2</th>\n",
       "      <th>Time 3</th>\n",
       "    </tr>\n",
       "  </thead>\n",
       "  <tbody>\n",
       "    <tr>\n",
       "      <th>0</th>\n",
       "      <td>1.0</td>\n",
       "      <td>1.0</td>\n",
       "      <td>3.0</td>\n",
       "    </tr>\n",
       "  </tbody>\n",
       "</table>\n",
       "</div>"
      ],
      "text/plain": [
       "   Time 1  Time 2  Time 3\n",
       "0     1.0     1.0     3.0"
      ]
     },
     "execution_count": 23,
     "metadata": {},
     "output_type": "execute_result"
    }
   ],
   "source": [
    "# Filtering results\n",
    "\n",
    "hmm1 = HMM(Viz, TM, OM, p)\n",
    "hmm1.viturbi()"
   ]
  },
  {
   "cell_type": "markdown",
   "metadata": {},
   "source": [
    "## Burglary Problem from the Lecture"
   ]
  },
  {
   "cell_type": "code",
   "execution_count": 2,
   "metadata": {},
   "outputs": [],
   "source": [
    "# Example lecture problem: Burglar in an apartment\n",
    "# Data \n",
    "# Transition matrix\n",
    "TM = np.array([[.1,.4,.5],[.4,.0,.6],[0,.6,.4]])  \n",
    "# Observation matrix\n",
    "OM = np.array([[.6,.2,.2],[.2,.6,.2],[.2,.2,.6]])\n",
    "OM = OM.T\n",
    "# Prior probabilities of hidden states\n",
    "p = [1,0,0]\n",
    "# Observed visible states\n",
    "Viz = [0,2,2]\n"
   ]
  },
  {
   "cell_type": "code",
   "execution_count": 3,
   "metadata": {},
   "outputs": [
    {
     "name": "stdout",
     "output_type": "stream",
     "text": [
      "self.alpha\n",
      "[[0.6     0.      0.     ]\n",
      " [0.012   0.048   0.18   ]\n",
      " [0.00408 0.02256 0.06408]]\n",
      "Posterior\n",
      "[[1.         0.         0.        ]\n",
      " [0.05       0.2        0.75      ]\n",
      " [0.04497354 0.24867725 0.70634921]]\n"
     ]
    },
    {
     "data": {
      "text/plain": [
       "array([[1.        , 0.        , 0.        ],\n",
       "       [0.05      , 0.2       , 0.75      ],\n",
       "       [0.04497354, 0.24867725, 0.70634921]])"
      ]
     },
     "execution_count": 3,
     "metadata": {},
     "output_type": "execute_result"
    }
   ],
   "source": [
    "# Filtering results\n",
    "\n",
    "hmm1 = HMM(Viz, TM, OM, p)\n",
    "hmm1.filter()\n",
    "\n"
   ]
  },
  {
   "cell_type": "code",
   "execution_count": 4,
   "metadata": {},
   "outputs": [
    {
     "name": "stdout",
     "output_type": "stream",
     "text": [
      "beta\n",
      "[[0.1512 0.1616 0.1392]\n",
      " [0.4    0.44   0.36  ]\n",
      " [1.     1.     1.    ]]\n",
      "Posterior\n",
      "[[1.         0.         0.        ]\n",
      " [0.05291005 0.23280423 0.71428571]\n",
      " [0.04497354 0.24867725 0.70634921]]\n"
     ]
    },
    {
     "data": {
      "text/plain": [
       "array([[1.        , 0.        , 0.        ],\n",
       "       [0.05291005, 0.23280423, 0.71428571],\n",
       "       [0.04497354, 0.24867725, 0.70634921]])"
      ]
     },
     "execution_count": 4,
     "metadata": {},
     "output_type": "execute_result"
    }
   ],
   "source": [
    "# Smoothing results\n",
    "hmm1.smoother()\n"
   ]
  },
  {
   "cell_type": "code",
   "execution_count": 5,
   "metadata": {},
   "outputs": [
    {
     "name": "stdout",
     "output_type": "stream",
     "text": [
      "delta\n",
      "[[0.6     0.      0.     ]\n",
      " [0.012   0.048   0.18   ]\n",
      " [0.00384 0.0216  0.0432 ]]\n",
      "Previous\n",
      "[[nan nan nan]\n",
      " [ 0.  0.  0.]\n",
      " [ 1.  2.  2.]]\n",
      "Path\n",
      "   Time 1  Time 2  Time 3\n",
      "0     1.0     3.0     3.0\n"
     ]
    },
    {
     "data": {
      "text/html": [
       "<div>\n",
       "<style scoped>\n",
       "    .dataframe tbody tr th:only-of-type {\n",
       "        vertical-align: middle;\n",
       "    }\n",
       "\n",
       "    .dataframe tbody tr th {\n",
       "        vertical-align: top;\n",
       "    }\n",
       "\n",
       "    .dataframe thead th {\n",
       "        text-align: right;\n",
       "    }\n",
       "</style>\n",
       "<table border=\"1\" class=\"dataframe\">\n",
       "  <thead>\n",
       "    <tr style=\"text-align: right;\">\n",
       "      <th></th>\n",
       "      <th>Time 1</th>\n",
       "      <th>Time 2</th>\n",
       "      <th>Time 3</th>\n",
       "    </tr>\n",
       "  </thead>\n",
       "  <tbody>\n",
       "    <tr>\n",
       "      <th>0</th>\n",
       "      <td>1.0</td>\n",
       "      <td>3.0</td>\n",
       "      <td>3.0</td>\n",
       "    </tr>\n",
       "  </tbody>\n",
       "</table>\n",
       "</div>"
      ],
      "text/plain": [
       "   Time 1  Time 2  Time 3\n",
       "0     1.0     3.0     3.0"
      ]
     },
     "execution_count": 5,
     "metadata": {},
     "output_type": "execute_result"
    }
   ],
   "source": [
    "# Decoding results using the Viturbi algorithm\n",
    "\n",
    "hmm1.viturbi()\n"
   ]
  },
  {
   "cell_type": "code",
   "execution_count": 6,
   "metadata": {},
   "outputs": [
    {
     "name": "stdout",
     "output_type": "stream",
     "text": [
      "Predicted Hidden State\n",
      "[0.10396825 0.44179894 0.4542328 ]\n",
      "Predicted Visible State\n",
      "[0.2415873  0.37671958 0.38169312]\n"
     ]
    }
   ],
   "source": [
    "# One step predictions of hidden and visible states\n",
    "\n",
    "hmm1.predictor()"
   ]
  },
  {
   "cell_type": "markdown",
   "metadata": {},
   "source": [
    "## Investment Decision"
   ]
  },
  {
   "cell_type": "code",
   "execution_count": 24,
   "metadata": {},
   "outputs": [],
   "source": [
    "## Implement for investment\n",
    "\n",
    "# Data \n",
    "# Transition matrix\n",
    "TM = np.array([[.6,.3,.1],[.4,.4,.2],[.1,.4,.5]])  \n",
    "# Observation matrix\n",
    "OM = np.array([[.45,.4,.15],[.3,.4,.3],[.2,.5,.3]])\n",
    "OM = OM.T\n",
    "# Prior probabilities of hidden states\n",
    "p = [(1/3),(1/3),(1/3)]\n",
    "# Observed visible states\n",
    "Viz = [0,2,2]"
   ]
  },
  {
   "cell_type": "markdown",
   "metadata": {},
   "source": [
    "### a. ### \n",
    "The most likely current state given observed states"
   ]
  },
  {
   "cell_type": "code",
   "execution_count": 25,
   "metadata": {},
   "outputs": [
    {
     "name": "stdout",
     "output_type": "stream",
     "text": [
      "Posterior\n",
      "[[0.45       0.4        0.15      ]\n",
      " [0.27258806 0.54364472 0.18376723]\n",
      " [0.23871854 0.55697941 0.20430206]]\n"
     ]
    },
    {
     "data": {
      "text/plain": [
       "array([[0.45      , 0.4       , 0.15      ],\n",
       "       [0.27258806, 0.54364472, 0.18376723],\n",
       "       [0.23871854, 0.55697941, 0.20430206]])"
      ]
     },
     "execution_count": 25,
     "metadata": {},
     "output_type": "execute_result"
    }
   ],
   "source": [
    "## The most likely cu\n",
    "\n",
    "hmm1 = HMM(Viz, TM, OM, p)\n",
    "hmm1.filter()"
   ]
  },
  {
   "cell_type": "markdown",
   "metadata": {},
   "source": [
    "### b. "
   ]
  },
  {
   "cell_type": "markdown",
   "metadata": {},
   "source": [
    "Most likely states at each previous time period"
   ]
  },
  {
   "cell_type": "code",
   "execution_count": 26,
   "metadata": {},
   "outputs": [
    {
     "name": "stdout",
     "output_type": "stream",
     "text": [
      "beta\n",
      "[[0.0981 0.1142 0.1295]\n",
      " [0.3    0.34   0.37  ]\n",
      " [1.     1.     1.    ]]\n",
      "Posterior\n",
      "[[0.40407323 0.41812357 0.1778032 ]\n",
      " [0.24439359 0.55240275 0.20320366]\n",
      " [0.23871854 0.55697941 0.20430206]]\n",
      "alpha\n",
      "[[0.15       0.13333333 0.05      ]\n",
      " [0.02966667 0.05916667 0.02      ]\n",
      " [0.00869333 0.02028333 0.00744   ]]\n"
     ]
    },
    {
     "data": {
      "text/plain": [
       "array([[0.40407323, 0.41812357, 0.1778032 ],\n",
       "       [0.24439359, 0.55240275, 0.20320366],\n",
       "       [0.23871854, 0.55697941, 0.20430206]])"
      ]
     },
     "execution_count": 26,
     "metadata": {},
     "output_type": "execute_result"
    }
   ],
   "source": [
    "hmm1.smoother()"
   ]
  },
  {
   "cell_type": "markdown",
   "metadata": {},
   "source": [
    "### c."
   ]
  },
  {
   "cell_type": "markdown",
   "metadata": {},
   "source": [
    "Most likely path. NOTE TO GRADER: I did not change this code since it worked for the given code sample. I recognize this is likely wrong."
   ]
  },
  {
   "cell_type": "code",
   "execution_count": 27,
   "metadata": {},
   "outputs": [
    {
     "name": "stdout",
     "output_type": "stream",
     "text": [
      "delta\n",
      "[[0.15       0.13333333 0.05      ]\n",
      " [0.018      0.02666667 0.008     ]\n",
      " [0.00216    0.00533333 0.0016    ]]\n",
      "Previous\n",
      "[[nan nan nan]\n",
      " [ 0.  1.  1.]\n",
      " [ 0.  1.  1.]]\n",
      "Path\n",
      "   Time 1  Time 2  Time 3\n",
      "0     1.0     1.0     2.0\n"
     ]
    },
    {
     "data": {
      "text/html": [
       "<div>\n",
       "<style scoped>\n",
       "    .dataframe tbody tr th:only-of-type {\n",
       "        vertical-align: middle;\n",
       "    }\n",
       "\n",
       "    .dataframe tbody tr th {\n",
       "        vertical-align: top;\n",
       "    }\n",
       "\n",
       "    .dataframe thead th {\n",
       "        text-align: right;\n",
       "    }\n",
       "</style>\n",
       "<table border=\"1\" class=\"dataframe\">\n",
       "  <thead>\n",
       "    <tr style=\"text-align: right;\">\n",
       "      <th></th>\n",
       "      <th>Time 1</th>\n",
       "      <th>Time 2</th>\n",
       "      <th>Time 3</th>\n",
       "    </tr>\n",
       "  </thead>\n",
       "  <tbody>\n",
       "    <tr>\n",
       "      <th>0</th>\n",
       "      <td>1.0</td>\n",
       "      <td>1.0</td>\n",
       "      <td>2.0</td>\n",
       "    </tr>\n",
       "  </tbody>\n",
       "</table>\n",
       "</div>"
      ],
      "text/plain": [
       "   Time 1  Time 2  Time 3\n",
       "0     1.0     1.0     2.0"
      ]
     },
     "execution_count": 27,
     "metadata": {},
     "output_type": "execute_result"
    }
   ],
   "source": [
    "hmm1.viturbi()"
   ]
  },
  {
   "cell_type": "markdown",
   "metadata": {},
   "source": [
    "### d."
   ]
  },
  {
   "cell_type": "markdown",
   "metadata": {},
   "source": [
    "NOTE TO GRADER: I attempted to code this but got hung up in the details. Please see my class adjustments for partial credit!"
   ]
  },
  {
   "cell_type": "code",
   "execution_count": 28,
   "metadata": {},
   "outputs": [
    {
     "name": "stdout",
     "output_type": "stream",
     "text": [
      "Posterior\n",
      "[[0.45       0.4        0.15      ]\n",
      " [0.27258806 0.54364472 0.18376723]\n",
      " [0.23871854 0.55697941 0.20430206]]\n"
     ]
    },
    {
     "ename": "TypeError",
     "evalue": "'int' object is not iterable",
     "output_type": "error",
     "traceback": [
      "\u001b[1;31m---------------------------------------------------------------------------\u001b[0m",
      "\u001b[1;31mTypeError\u001b[0m                                 Traceback (most recent call last)",
      "\u001b[1;32m<ipython-input-28-3164a8f6e651>\u001b[0m in \u001b[0;36m<module>\u001b[1;34m\u001b[0m\n\u001b[1;32m----> 1\u001b[1;33m \u001b[0mhmm1\u001b[0m\u001b[1;33m.\u001b[0m\u001b[0mpredictor\u001b[0m\u001b[1;33m(\u001b[0m\u001b[1;33m)\u001b[0m\u001b[1;33m\u001b[0m\u001b[1;33m\u001b[0m\u001b[0m\n\u001b[0m",
      "\u001b[1;32m<ipython-input-20-ec298df83c8c>\u001b[0m in \u001b[0;36mpredictor\u001b[1;34m(self, steps)\u001b[0m\n\u001b[0;32m    171\u001b[0m \u001b[1;33m\u001b[0m\u001b[0m\n\u001b[0;32m    172\u001b[0m         \u001b[1;32mfor\u001b[0m \u001b[0mstep\u001b[0m \u001b[1;32min\u001b[0m \u001b[0mrange\u001b[0m\u001b[1;33m(\u001b[0m\u001b[0msteps\u001b[0m\u001b[1;33m)\u001b[0m\u001b[1;33m:\u001b[0m\u001b[1;33m\u001b[0m\u001b[1;33m\u001b[0m\u001b[0m\n\u001b[1;32m--> 173\u001b[1;33m             \u001b[1;32mfor\u001b[0m \u001b[0mroom\u001b[0m \u001b[1;32min\u001b[0m \u001b[0mT\u001b[0m\u001b[1;33m:\u001b[0m\u001b[1;33m\u001b[0m\u001b[1;33m\u001b[0m\u001b[0m\n\u001b[0m\u001b[0;32m    174\u001b[0m                 \u001b[0mnew_hmm\u001b[0m\u001b[1;33m=\u001b[0m\u001b[0mHMM\u001b[0m\u001b[1;33m(\u001b[0m\u001b[0mself\u001b[0m\u001b[1;33m.\u001b[0m\u001b[0mViz\u001b[0m\u001b[1;33m,\u001b[0m \u001b[0mself\u001b[0m\u001b[1;33m.\u001b[0m\u001b[0mTrans_M\u001b[0m\u001b[1;33m,\u001b[0m \u001b[0mself\u001b[0m\u001b[1;33m.\u001b[0m\u001b[0mObs_M\u001b[0m\u001b[1;33m,\u001b[0m \u001b[0mtemp\u001b[0m\u001b[1;33m[\u001b[0m\u001b[0mstep\u001b[0m\u001b[1;33m]\u001b[0m\u001b[1;33m)\u001b[0m\u001b[1;33m\u001b[0m\u001b[1;33m\u001b[0m\u001b[0m\n\u001b[0;32m    175\u001b[0m                 \u001b[0mtemp\u001b[0m\u001b[1;33m=\u001b[0m\u001b[0mnew_hmm\u001b[0m\u001b[1;33m.\u001b[0m\u001b[0mfilter\u001b[0m\u001b[1;33m(\u001b[0m\u001b[1;33m)\u001b[0m\u001b[1;33m\u001b[0m\u001b[1;33m\u001b[0m\u001b[0m\n",
      "\u001b[1;31mTypeError\u001b[0m: 'int' object is not iterable"
     ]
    }
   ],
   "source": [
    "hmm1.predictor()"
   ]
  },
  {
   "cell_type": "code",
   "execution_count": null,
   "metadata": {},
   "outputs": [],
   "source": []
  }
 ],
 "metadata": {
  "kernelspec": {
   "display_name": "Python 3",
   "language": "python",
   "name": "python3"
  },
  "language_info": {
   "codemirror_mode": {
    "name": "ipython",
    "version": 3
   },
   "file_extension": ".py",
   "mimetype": "text/x-python",
   "name": "python",
   "nbconvert_exporter": "python",
   "pygments_lexer": "ipython3",
   "version": "3.8.10"
  }
 },
 "nbformat": 4,
 "nbformat_minor": 2
}
