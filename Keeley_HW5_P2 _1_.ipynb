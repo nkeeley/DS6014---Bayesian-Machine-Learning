{
 "cells": [
  {
   "cell_type": "markdown",
   "id": "49e43815",
   "metadata": {},
   "source": [
    "## Problem 2 ##"
   ]
  },
  {
   "cell_type": "markdown",
   "id": "f83b93bc",
   "metadata": {},
   "source": [
    "References: https://www.youtube.com/watch?v=Fkw0_aAtwIw; Class notes from chalkboard drawings on 17 NOV 2021;"
   ]
  },
  {
   "cell_type": "markdown",
   "id": "b4a36103",
   "metadata": {},
   "source": [
    "Boltzmann machines are computationally challenging because their partion - Z, the normalizing constant that precedes the energy function for Boltzmann machines - quickly becomes intractable due to the large number of cliques that form with the introduction of new variables. Although Z is still computationally intractable for Restricted Boltzmann Machines (RBMs), they are easier to train because their two-layer variable structure (visible and hidden) allows for the estimation of conditional probability distributions. One approach for training RBMs is called \"contrastive divergence,\" which involves increasing the probability of outcomes that mimic observed outcomes, while simultaneously reducing the overall probability of other non-observed outcomes. I referenced the following video to gain a more practical understanding of this process: https://www.youtube.com/watch?v=Fkw0_aAtwIw."
   ]
  },
  {
   "cell_type": "markdown",
   "id": "66840ef3",
   "metadata": {},
   "source": [
    "![](HW5_p2.jpg)"
   ]
  },
  {
   "cell_type": "code",
   "execution_count": null,
   "id": "faaa74a7",
   "metadata": {},
   "outputs": [],
   "source": []
  }
 ],
 "metadata": {
  "kernelspec": {
   "display_name": "Python 3",
   "language": "python",
   "name": "python3"
  },
  "language_info": {
   "codemirror_mode": {
    "name": "ipython",
    "version": 3
   },
   "file_extension": ".py",
   "mimetype": "text/x-python",
   "name": "python",
   "nbconvert_exporter": "python",
   "pygments_lexer": "ipython3",
   "version": "3.8.10"
  }
 },
 "nbformat": 4,
 "nbformat_minor": 5
}
